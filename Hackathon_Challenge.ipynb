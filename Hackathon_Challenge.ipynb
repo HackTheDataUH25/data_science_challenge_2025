{
  "nbformat": 4,
  "nbformat_minor": 0,
  "metadata": {
    "colab": {
      "provenance": [],
      "authorship_tag": "ABX9TyP/+W+GQ7Cenzy8r+9GIK+G",
      "include_colab_link": true
    },
    "kernelspec": {
      "name": "python3",
      "display_name": "Python 3"
    },
    "language_info": {
      "name": "python"
    }
  },
  "cells": [
    {
      "cell_type": "markdown",
      "metadata": {
        "id": "view-in-github",
        "colab_type": "text"
      },
      "source": [
        "<a href=\"https://colab.research.google.com/github/HackTheDataUH25/data_science_challenge_2025/blob/main/Hackathon_Challenge.ipynb\" target=\"_parent\"><img src=\"https://colab.research.google.com/assets/colab-badge.svg\" alt=\"Open In Colab\"/></a>"
      ]
    },
    {
      "cell_type": "markdown",
      "source": [
        "# HackTheDataUH25 – Group 5"
      ],
      "metadata": {
        "id": "YkeL4kcdN5yH"
      }
    },
    {
      "cell_type": "code",
      "source": [],
      "metadata": {
        "id": "2K_MFN1FN90d"
      },
      "execution_count": null,
      "outputs": []
    }
  ]
}